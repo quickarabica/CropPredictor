{
 "cells": [
  {
   "cell_type": "code",
   "execution_count": 5,
   "id": "ef592379-59d5-4e07-8bc7-84ecacfb3076",
   "metadata": {},
   "outputs": [
    {
     "name": "stdout",
     "output_type": "stream",
     "text": [
      "Collecting qiskit_aer\n",
      "  Using cached qiskit_aer-0.17.0-cp313-cp313-macosx_11_0_arm64.whl.metadata (8.2 kB)\n",
      "Requirement already satisfied: qiskit>=1.1.0 in /Library/Frameworks/Python.framework/Versions/3.13/lib/python3.13/site-packages (from qiskit_aer) (2.0.0)\n",
      "Requirement already satisfied: numpy>=1.16.3 in /Library/Frameworks/Python.framework/Versions/3.13/lib/python3.13/site-packages (from qiskit_aer) (2.2.4)\n",
      "Requirement already satisfied: scipy>=1.0 in /Library/Frameworks/Python.framework/Versions/3.13/lib/python3.13/site-packages (from qiskit_aer) (1.15.2)\n",
      "Requirement already satisfied: psutil>=5 in /Users/rajnarayansharma/Library/Python/3.13/lib/python/site-packages (from qiskit_aer) (7.0.0)\n",
      "Requirement already satisfied: rustworkx>=0.15.0 in /Library/Frameworks/Python.framework/Versions/3.13/lib/python3.13/site-packages (from qiskit>=1.1.0->qiskit_aer) (0.16.0)\n",
      "Requirement already satisfied: sympy>=1.3 in /Library/Frameworks/Python.framework/Versions/3.13/lib/python3.13/site-packages (from qiskit>=1.1.0->qiskit_aer) (1.13.1)\n",
      "Requirement already satisfied: dill>=0.3 in /Library/Frameworks/Python.framework/Versions/3.13/lib/python3.13/site-packages (from qiskit>=1.1.0->qiskit_aer) (0.4.0)\n",
      "Requirement already satisfied: python-dateutil>=2.8.0 in /Library/Frameworks/Python.framework/Versions/3.13/lib/python3.13/site-packages (from qiskit>=1.1.0->qiskit_aer) (2.9.0.post0)\n",
      "Requirement already satisfied: stevedore>=3.0.0 in /Library/Frameworks/Python.framework/Versions/3.13/lib/python3.13/site-packages (from qiskit>=1.1.0->qiskit_aer) (5.4.1)\n",
      "Requirement already satisfied: typing-extensions in /Library/Frameworks/Python.framework/Versions/3.13/lib/python3.13/site-packages (from qiskit>=1.1.0->qiskit_aer) (4.13.2)\n",
      "Requirement already satisfied: symengine<0.14,>=0.11 in /Library/Frameworks/Python.framework/Versions/3.13/lib/python3.13/site-packages (from qiskit>=1.1.0->qiskit_aer) (0.13.0)\n",
      "Requirement already satisfied: six>=1.5 in /Library/Frameworks/Python.framework/Versions/3.13/lib/python3.13/site-packages (from python-dateutil>=2.8.0->qiskit>=1.1.0->qiskit_aer) (1.17.0)\n",
      "Requirement already satisfied: pbr>=2.0.0 in /Library/Frameworks/Python.framework/Versions/3.13/lib/python3.13/site-packages (from stevedore>=3.0.0->qiskit>=1.1.0->qiskit_aer) (6.1.1)\n",
      "Requirement already satisfied: mpmath<1.4,>=1.1.0 in /Library/Frameworks/Python.framework/Versions/3.13/lib/python3.13/site-packages (from sympy>=1.3->qiskit>=1.1.0->qiskit_aer) (1.3.0)\n",
      "Requirement already satisfied: setuptools in /Library/Frameworks/Python.framework/Versions/3.13/lib/python3.13/site-packages (from pbr>=2.0.0->stevedore>=3.0.0->qiskit>=1.1.0->qiskit_aer) (78.1.0)\n",
      "Downloading qiskit_aer-0.17.0-cp313-cp313-macosx_11_0_arm64.whl (2.2 MB)\n",
      "\u001b[2K   \u001b[38;2;114;156;31m━━━━━━━━━━━━━━━━━━━━━━━━━━━━━━━━━━━━━━━━\u001b[0m \u001b[32m2.2/2.2 MB\u001b[0m \u001b[31m3.4 MB/s\u001b[0m eta \u001b[36m0:00:00\u001b[0m MB/s\u001b[0m eta \u001b[36m0:00:01\u001b[0m:01\u001b[0m\n",
      "\u001b[?25hInstalling collected packages: qiskit_aer\n",
      "Successfully installed qiskit_aer-0.17.0\n"
     ]
    }
   ],
   "source": [
    "!pip install qiskit qiskit_aer "
   ]
  },
  {
   "cell_type": "code",
   "execution_count": 1,
   "id": "135fe449",
   "metadata": {},
   "outputs": [],
   "source": [
    "import numpy as np\n",
    "import pandas as pd\n",
    "from qiskit import QuantumCircuit, transpile\n",
    "from qiskit_aer import AerSimulator\n",
    "from sklearn.model_selection import train_test_split\n",
    "from sklearn.metrics import accuracy_score, classification_report\n",
    "from collections import Counter\n",
    "from tqdm import tqdm"
   ]
  },
  {
   "cell_type": "code",
   "execution_count": 2,
   "id": "8b9fd8f2",
   "metadata": {},
   "outputs": [],
   "source": [
    "def amplitude_encode(features):\n",
    "    d = len(features)\n",
    "    n_qubits = int(np.ceil(np.log2(d)))\n",
    "    dim = 2**n_qubits\n",
    "    vec = np.zeros(dim)\n",
    "    vec[:d] = features\n",
    "    norm = np.linalg.norm(vec)\n",
    "    return vec / norm if norm != 0 else vec\n",
    "\n",
    "def build_state_prep(vec, n_qubits):\n",
    "    qc = QuantumCircuit(n_qubits)\n",
    "    qc.initialize(vec, range(n_qubits))\n",
    "    return qc\n",
    "\n",
    "def swap_test(vec1, vec2, shots=1024):\n",
    "    n_qubits = int(np.log2(len(vec1)))\n",
    "    qc = QuantumCircuit(1 + 2 * n_qubits, 1)\n",
    "    qc.h(0)\n",
    "\n",
    "    # Encode both vectors\n",
    "    qc.compose(build_state_prep(vec1, n_qubits), qubits=range(1, 1 + n_qubits), inplace=True)\n",
    "    qc.compose(build_state_prep(vec2, n_qubits), qubits=range(1 + n_qubits, 1 + 2 * n_qubits), inplace=True)\n",
    "\n",
    "    # Controlled-SWAP between registers\n",
    "    for i in range(n_qubits):\n",
    "        qc.cswap(0, i + 1, i + 1 + n_qubits)\n",
    "\n",
    "    qc.h(0)\n",
    "    qc.measure(0, 0)\n",
    "\n",
    "    simulator = AerSimulator()\n",
    "    tqc = transpile(qc, simulator)\n",
    "    job = simulator.run(tqc, shots=shots)\n",
    "    result = job.result()\n",
    "    counts = result.get_counts()\n",
    "\n",
    "    prob_0 = counts.get('0', 0) / shots\n",
    "    fidelity = 2 * prob_0 - 1\n",
    "    return fidelity\n"
   ]
  },
  {
   "cell_type": "code",
   "execution_count": 3,
   "id": "afa850bc",
   "metadata": {
    "editable": true,
    "slideshow": {
     "slide_type": ""
    },
    "tags": []
   },
   "outputs": [],
   "source": [
    "df = pd.read_csv('data.csv')\n",
    "\n",
    "# Initialize empty lists for the training and testing data\n",
    "X_train = []\n",
    "y_train = []\n",
    "X_test = []\n",
    "y_test = []\n",
    "\n",
    "# Iterate over each label\n",
    "labels = df['label'].unique()  # Get the unique labels\n",
    "for label in labels:\n",
    "    # Select the rows corresponding to the current label\n",
    "    label_data = df[df['label'] == label]\n",
    "    \n",
    "    # Take the first 15 rows for training\n",
    "    X_train.append(label_data[['N', 'P', 'K', 'temperature', 'humidity', 'ph', 'rainfall']].iloc[:15].values)\n",
    "    y_train.append(label_data['label'].iloc[:15].values)\n",
    "    \n",
    "    # Take the next 5 rows for testing\n",
    "    X_test.append(label_data[['N', 'P', 'K', 'temperature', 'humidity', 'ph', 'rainfall']].iloc[15:20].values)\n",
    "    y_test.append(label_data['label'].iloc[15:20].values)\n",
    "\n",
    "# Convert lists to arrays\n",
    "X_train = np.concatenate(X_train, axis=0)\n",
    "y_train = np.concatenate(y_train, axis=0)\n",
    "X_test = np.concatenate(X_test, axis=0)\n",
    "y_test = np.concatenate(y_test, axis=0)"
   ]
  },
  {
   "cell_type": "code",
   "execution_count": 4,
   "id": "d30dd17d",
   "metadata": {},
   "outputs": [
    {
     "name": "stderr",
     "output_type": "stream",
     "text": [
      "Encoding training: 100%|██████████████████████████████████████████████████████████████████████████████████████████████████| 330/330 [00:00<00:00, 62277.63it/s]\n"
     ]
    }
   ],
   "source": [
    "train_states = []\n",
    "for xi in tqdm(X_train, desc=\"Encoding training\"):\n",
    "    train_states.append(amplitude_encode(xi))\n",
    "train_labels = list(y_train)\n"
   ]
  },
  {
   "cell_type": "code",
   "execution_count": 5,
   "id": "24d22275",
   "metadata": {
    "editable": true,
    "slideshow": {
     "slide_type": ""
    },
    "tags": []
   },
   "outputs": [
    {
     "name": "stderr",
     "output_type": "stream",
     "text": [
      "Predicting: 100%|██████████████████████████████████████████████████████████████████████████████████████████████████████████| 110/110 [1:45:56<00:00, 57.79s/it]\n"
     ]
    }
   ],
   "source": [
    "k = 5\n",
    "predictions = []\n",
    "for xi in tqdm(X_test, desc=\"Predicting\"):\n",
    "    vec_test = amplitude_encode(xi)\n",
    "    fidelities = [swap_test(vec_test, vec_train, shots=1024) for vec_train in train_states]\n",
    "    distances = [1 - f for f in fidelities]\n",
    "    nn_idx = np.argsort(distances)[:k]\n",
    "    nearest = [train_labels[i] for i in nn_idx]\n",
    "    predictions.append(Counter(nearest).most_common(1)[0][0])\n"
   ]
  },
  {
   "cell_type": "code",
   "execution_count": 6,
   "id": "084bff45",
   "metadata": {},
   "outputs": [
    {
     "name": "stdout",
     "output_type": "stream",
     "text": [
      "Accuracy: 0.89\n",
      "\n",
      "              precision    recall  f1-score   support\n",
      "\n",
      "       apple       1.00      1.00      1.00         5\n",
      "      banana       0.83      1.00      0.91         5\n",
      "   blackgram       0.71      1.00      0.83         5\n",
      "    chickpea       1.00      1.00      1.00         5\n",
      "     coconut       1.00      1.00      1.00         5\n",
      "      coffee       1.00      0.80      0.89         5\n",
      "      cotton       1.00      1.00      1.00         5\n",
      "      grapes       1.00      1.00      1.00         5\n",
      "        jute       0.75      0.60      0.67         5\n",
      " kidneybeans       0.83      1.00      0.91         5\n",
      "      lentil       0.60      0.60      0.60         5\n",
      "       maize       1.00      0.80      0.89         5\n",
      "       mango       1.00      0.80      0.89         5\n",
      "   mothbeans       0.50      0.20      0.29         5\n",
      "    mungbean       1.00      1.00      1.00         5\n",
      "   muskmelon       1.00      1.00      1.00         5\n",
      "      orange       1.00      1.00      1.00         5\n",
      "      papaya       0.83      1.00      0.91         5\n",
      "  pigeonpeas       0.80      0.80      0.80         5\n",
      " pomegranate       1.00      1.00      1.00         5\n",
      "        rice       0.71      1.00      0.83         5\n",
      "  watermelon       1.00      1.00      1.00         5\n",
      "\n",
      "    accuracy                           0.89       110\n",
      "   macro avg       0.89      0.89      0.88       110\n",
      "weighted avg       0.89      0.89      0.88       110\n",
      "\n"
     ]
    }
   ],
   "source": [
    "acc = accuracy_score(y_test, predictions)\n",
    "print(f\"Accuracy: {acc:.2f}\\n\")\n",
    "print(classification_report(y_test, predictions))\n",
    " "
   ]
  },
  {
   "cell_type": "code",
   "execution_count": null,
   "id": "1bb78f0b-4bea-4826-b6b8-4a8d495d2b99",
   "metadata": {},
   "outputs": [],
   "source": []
  }
 ],
 "metadata": {
  "kernelspec": {
   "display_name": "Python 3 (ipykernel)",
   "language": "python",
   "name": "python3"
  },
  "language_info": {
   "codemirror_mode": {
    "name": "ipython",
    "version": 3
   },
   "file_extension": ".py",
   "mimetype": "text/x-python",
   "name": "python",
   "nbconvert_exporter": "python",
   "pygments_lexer": "ipython3",
   "version": "3.13.2"
  }
 },
 "nbformat": 4,
 "nbformat_minor": 5
}
