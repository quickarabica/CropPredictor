{
 "cells": [
  {
   "cell_type": "code",
   "execution_count": 5,
   "id": "ef592379-59d5-4e07-8bc7-84ecacfb3076",
   "metadata": {},
   "outputs": [
    {
     "name": "stdout",
     "output_type": "stream",
     "text": [
      "Collecting qiskit_aer\n",
      "  Using cached qiskit_aer-0.17.0-cp313-cp313-macosx_11_0_arm64.whl.metadata (8.2 kB)\n",
      "Requirement already satisfied: qiskit>=1.1.0 in /Library/Frameworks/Python.framework/Versions/3.13/lib/python3.13/site-packages (from qiskit_aer) (2.0.0)\n",
      "Requirement already satisfied: numpy>=1.16.3 in /Library/Frameworks/Python.framework/Versions/3.13/lib/python3.13/site-packages (from qiskit_aer) (2.2.4)\n",
      "Requirement already satisfied: scipy>=1.0 in /Library/Frameworks/Python.framework/Versions/3.13/lib/python3.13/site-packages (from qiskit_aer) (1.15.2)\n",
      "Requirement already satisfied: psutil>=5 in /Users/rajnarayansharma/Library/Python/3.13/lib/python/site-packages (from qiskit_aer) (7.0.0)\n",
      "Requirement already satisfied: rustworkx>=0.15.0 in /Library/Frameworks/Python.framework/Versions/3.13/lib/python3.13/site-packages (from qiskit>=1.1.0->qiskit_aer) (0.16.0)\n",
      "Requirement already satisfied: sympy>=1.3 in /Library/Frameworks/Python.framework/Versions/3.13/lib/python3.13/site-packages (from qiskit>=1.1.0->qiskit_aer) (1.13.1)\n",
      "Requirement already satisfied: dill>=0.3 in /Library/Frameworks/Python.framework/Versions/3.13/lib/python3.13/site-packages (from qiskit>=1.1.0->qiskit_aer) (0.4.0)\n",
      "Requirement already satisfied: python-dateutil>=2.8.0 in /Library/Frameworks/Python.framework/Versions/3.13/lib/python3.13/site-packages (from qiskit>=1.1.0->qiskit_aer) (2.9.0.post0)\n",
      "Requirement already satisfied: stevedore>=3.0.0 in /Library/Frameworks/Python.framework/Versions/3.13/lib/python3.13/site-packages (from qiskit>=1.1.0->qiskit_aer) (5.4.1)\n",
      "Requirement already satisfied: typing-extensions in /Library/Frameworks/Python.framework/Versions/3.13/lib/python3.13/site-packages (from qiskit>=1.1.0->qiskit_aer) (4.13.2)\n",
      "Requirement already satisfied: symengine<0.14,>=0.11 in /Library/Frameworks/Python.framework/Versions/3.13/lib/python3.13/site-packages (from qiskit>=1.1.0->qiskit_aer) (0.13.0)\n",
      "Requirement already satisfied: six>=1.5 in /Library/Frameworks/Python.framework/Versions/3.13/lib/python3.13/site-packages (from python-dateutil>=2.8.0->qiskit>=1.1.0->qiskit_aer) (1.17.0)\n",
      "Requirement already satisfied: pbr>=2.0.0 in /Library/Frameworks/Python.framework/Versions/3.13/lib/python3.13/site-packages (from stevedore>=3.0.0->qiskit>=1.1.0->qiskit_aer) (6.1.1)\n",
      "Requirement already satisfied: mpmath<1.4,>=1.1.0 in /Library/Frameworks/Python.framework/Versions/3.13/lib/python3.13/site-packages (from sympy>=1.3->qiskit>=1.1.0->qiskit_aer) (1.3.0)\n",
      "Requirement already satisfied: setuptools in /Library/Frameworks/Python.framework/Versions/3.13/lib/python3.13/site-packages (from pbr>=2.0.0->stevedore>=3.0.0->qiskit>=1.1.0->qiskit_aer) (78.1.0)\n",
      "Downloading qiskit_aer-0.17.0-cp313-cp313-macosx_11_0_arm64.whl (2.2 MB)\n",
      "\u001b[2K   \u001b[38;2;114;156;31m━━━━━━━━━━━━━━━━━━━━━━━━━━━━━━━━━━━━━━━━\u001b[0m \u001b[32m2.2/2.2 MB\u001b[0m \u001b[31m3.4 MB/s\u001b[0m eta \u001b[36m0:00:00\u001b[0m MB/s\u001b[0m eta \u001b[36m0:00:01\u001b[0m:01\u001b[0m\n",
      "\u001b[?25hInstalling collected packages: qiskit_aer\n",
      "Successfully installed qiskit_aer-0.17.0\n"
     ]
    }
   ],
   "source": [
    "!pip install qiskit qiskit_aer "
   ]
  },
  {
   "cell_type": "code",
   "execution_count": 2,
   "id": "b5d1bc72",
   "metadata": {},
   "outputs": [
    {
     "name": "stdout",
     "output_type": "stream",
     "text": [
      "Collecting tqdm\n",
      "  Using cached tqdm-4.67.1-py3-none-any.whl.metadata (57 kB)\n",
      "Requirement already satisfied: colorama in c:\\users\\priya\\desktop\\croppredictor\\myenv\\lib\\site-packages (from tqdm) (0.4.6)\n",
      "Using cached tqdm-4.67.1-py3-none-any.whl (78 kB)\n",
      "Installing collected packages: tqdm\n",
      "Successfully installed tqdm-4.67.1\n"
     ]
    },
    {
     "name": "stderr",
     "output_type": "stream",
     "text": [
      "\n",
      "[notice] A new release of pip is available: 24.0 -> 25.1\n",
      "[notice] To update, run: python.exe -m pip install --upgrade pip\n"
     ]
    }
   ],
   "source": [
    "!pip install tqdm"
   ]
  },
  {
   "cell_type": "code",
   "execution_count": 22,
   "id": "135fe449",
   "metadata": {},
   "outputs": [
    {
     "name": "stdout",
     "output_type": "stream",
     "text": [
      "Training model...\n",
      "Saving trained model...\n",
      "\n",
      "Running predictions...\n"
     ]
    },
    {
     "name": "stderr",
     "output_type": "stream",
     "text": [
      "Predicting: 100%|██████████| 110/110 [1:51:42<00:00, 60.93s/it]"
     ]
    },
    {
     "name": "stdout",
     "output_type": "stream",
     "text": [
      "\n",
      "Accuracy: 0.87\n",
      "\n",
      "Classification Report:\n",
      "\n",
      "              precision    recall  f1-score   support\n",
      "\n",
      "       apple       1.00      1.00      1.00         5\n",
      "      banana       1.00      1.00      1.00         5\n",
      "   blackgram       0.80      0.80      0.80         5\n",
      "    chickpea       1.00      1.00      1.00         5\n",
      "     coconut       1.00      1.00      1.00         5\n",
      "      coffee       1.00      1.00      1.00         5\n",
      "      cotton       1.00      1.00      1.00         5\n",
      "      grapes       0.83      1.00      0.91         5\n",
      "        jute       0.75      0.60      0.67         5\n",
      " kidneybeans       0.62      1.00      0.77         5\n",
      "      lentil       0.75      0.60      0.67         5\n",
      "       maize       1.00      0.60      0.75         5\n",
      "       mango       1.00      1.00      1.00         5\n",
      "   mothbeans       0.67      0.80      0.73         5\n",
      "    mungbean       1.00      1.00      1.00         5\n",
      "   muskmelon       1.00      1.00      1.00         5\n",
      "      orange       0.80      0.80      0.80         5\n",
      "      papaya       0.83      1.00      0.91         5\n",
      "  pigeonpeas       1.00      0.20      0.33         5\n",
      " pomegranate       0.80      0.80      0.80         5\n",
      "        rice       0.71      1.00      0.83         5\n",
      "  watermelon       1.00      1.00      1.00         5\n",
      "\n",
      "    accuracy                           0.87       110\n",
      "   macro avg       0.89      0.87      0.86       110\n",
      "weighted avg       0.89      0.87      0.86       110\n",
      "\n"
     ]
    },
    {
     "name": "stderr",
     "output_type": "stream",
     "text": [
      "\n"
     ]
    }
   ],
   "source": [
    "import numpy as np\n",
    "import pandas as pd\n",
    "import os\n",
    "import pickle\n",
    "from qiskit import QuantumCircuit, transpile\n",
    "from qiskit_aer import AerSimulator\n",
    "from sklearn.metrics import accuracy_score, classification_report\n",
    "from sklearn.preprocessing import StandardScaler, LabelEncoder\n",
    "from collections import Counter\n",
    "from tqdm import tqdm\n",
    "\n",
    "def amplitude_encode(features):\n",
    "    d = len(features)\n",
    "    n_qubits = int(np.ceil(np.log2(d)))\n",
    "    dim = 2**n_qubits\n",
    "    vec = np.zeros(dim)\n",
    "    vec[:d] = features\n",
    "    norm = np.linalg.norm(vec)\n",
    "    return vec / norm if norm != 0 else vec\n",
    "\n",
    "def build_state_prep(vec, n_qubits):\n",
    "    qc = QuantumCircuit(n_qubits)\n",
    "    qc.initialize(vec, range(n_qubits))\n",
    "    return qc\n",
    "\n",
    "def swap_test(vec1, vec2, shots=1024):\n",
    "    n_qubits = int(np.log2(len(vec1)))\n",
    "    qc = QuantumCircuit(1 + 2 * n_qubits, 1)\n",
    "    qc.h(0)\n",
    "    qc.compose(build_state_prep(vec1, n_qubits), qubits=range(1, 1 + n_qubits), inplace=True)\n",
    "    qc.compose(build_state_prep(vec2, n_qubits), qubits=range(1 + n_qubits, 1 + 2 * n_qubits), inplace=True)\n",
    "    for i in range(n_qubits):\n",
    "        qc.cswap(0, i + 1, i + 1 + n_qubits)\n",
    "    qc.h(0)\n",
    "    qc.measure(0, 0)\n",
    "\n",
    "    simulator = AerSimulator()\n",
    "    tqc = transpile(qc, simulator)\n",
    "    result = simulator.run(tqc, shots=shots).result()\n",
    "    counts = result.get_counts()\n",
    "    prob_0 = counts.get('0', 0) / shots\n",
    "    fidelity = 2 * prob_0 - 1\n",
    "    return fidelity\n",
    "\n",
    "# Load dataset\n",
    "df = pd.read_csv('data.csv')\n",
    "\n",
    "# Model filename\n",
    "model_file = 'quantum_knn_model1.pkl'\n",
    "\n",
    "# Columns for features\n",
    "feature_cols = ['N', 'P', 'K', 'temperature', 'humidity', 'ph', 'rainfall']\n",
    "\n",
    "# Initialize test data containers\n",
    "X_test = []\n",
    "y_test = []\n",
    "\n",
    "if os.path.exists(model_file):\n",
    "    print(\"Loading saved model...\")\n",
    "    with open(model_file, 'rb') as f:\n",
    "        model_data = pickle.load(f)\n",
    "        train_states = model_data['train_states']\n",
    "        train_labels = model_data['train_labels']\n",
    "        scaler = model_data['scaler']\n",
    "        label_encoder = model_data['label_encoder']\n",
    "        class_names = model_data['class_names']\n",
    "\n",
    "    labels = df['label'].unique()\n",
    "    for label in labels:\n",
    "        label_data = df[df['label'] == label]\n",
    "        X_test.append(label_data[feature_cols].iloc[15:20].values)\n",
    "        y_test.append(label_data['label'].iloc[15:20].values)\n",
    "\n",
    "else:\n",
    "    print(\"Training model...\")\n",
    "\n",
    "    X_train, y_train = [], []\n",
    "    for label in df['label'].unique():\n",
    "        label_data = df[df['label'] == label]\n",
    "        X_train.append(label_data[feature_cols].iloc[:15].values)\n",
    "        y_train.extend(label_data['label'].iloc[:15].values)\n",
    "        X_test.append(label_data[feature_cols].iloc[15:20].values)\n",
    "        y_test.extend(label_data['label'].iloc[15:20].values)\n",
    "\n",
    "    # Combine training data\n",
    "    X_train = np.concatenate(X_train, axis=0)\n",
    "    X_test = np.concatenate(X_test, axis=0)\n",
    "\n",
    "    # Scale features\n",
    "    scaler = StandardScaler()\n",
    "    X_scaled = scaler.fit_transform(X_train)\n",
    "\n",
    "    # Encode labels\n",
    "    label_encoder = LabelEncoder()\n",
    "    y_encoded = label_encoder.fit_transform(y_train)\n",
    "    class_names = label_encoder.classes_.tolist()\n",
    "\n",
    "    # Quantum amplitude encoding\n",
    "    train_states = [amplitude_encode(xi) for xi in X_scaled]\n",
    "    train_labels = y_encoded\n",
    "\n",
    "    # Save model\n",
    "    print(\"Saving trained model...\")\n",
    "    with open(model_file, 'wb') as f:\n",
    "        pickle.dump({\n",
    "            'train_states': train_states,\n",
    "            'train_labels': train_labels,\n",
    "            'scaler': scaler,\n",
    "            'label_encoder': label_encoder,\n",
    "            'class_names': class_names\n",
    "        }, f)\n",
    "\n",
    "# Prepare test data\n",
    "X_test_scaled = scaler.transform(X_test)\n",
    "y_test_encoded = label_encoder.transform(y_test)  # For accuracy calculation\n",
    "\n",
    "# Predict\n",
    "k = 5\n",
    "predictions = []\n",
    "\n",
    "print(\"\\nRunning predictions...\")\n",
    "for xi in tqdm(X_test_scaled, desc=\"Predicting\"):\n",
    "    vec_test = amplitude_encode(xi)\n",
    "    fidelities = [swap_test(vec_test, vec_train, shots=1024) for vec_train in train_states]\n",
    "    distances = [1 - f for f in fidelities]\n",
    "    nn_idx = np.argsort(distances)[:k]\n",
    "    nearest = [train_labels[i] for i in nn_idx]\n",
    "    predictions.append(Counter(nearest).most_common(1)[0][0])\n",
    "\n",
    "# Evaluate\n",
    "acc = accuracy_score(y_test_encoded, predictions)\n",
    "print(f\"\\nAccuracy: {acc:.2f}\")\n",
    "print(\"\\nClassification Report:\\n\")\n",
    "print(classification_report(y_test_encoded, predictions, target_names=class_names))\n"
   ]
  },
  {
   "cell_type": "code",
   "execution_count": 2,
   "id": "e00146ec",
   "metadata": {},
   "outputs": [
    {
     "name": "stdout",
     "output_type": "stream",
     "text": [
      "Distinct labels:\n",
      "rice\n",
      "maize\n",
      "chickpea\n",
      "kidneybeans\n",
      "pigeonpeas\n",
      "mothbeans\n",
      "mungbean\n",
      "blackgram\n",
      "lentil\n",
      "pomegranate\n",
      "banana\n",
      "mango\n",
      "grapes\n",
      "watermelon\n",
      "muskmelon\n",
      "apple\n",
      "orange\n",
      "papaya\n",
      "coconut\n",
      "cotton\n",
      "jute\n",
      "coffee\n"
     ]
    },
    {
     "data": {
      "text/plain": [
       "array(['rice', 'maize', 'chickpea', 'kidneybeans', 'pigeonpeas',\n",
       "       'mothbeans', 'mungbean', 'blackgram', 'lentil', 'pomegranate',\n",
       "       'banana', 'mango', 'grapes', 'watermelon', 'muskmelon', 'apple',\n",
       "       'orange', 'papaya', 'coconut', 'cotton', 'jute', 'coffee'],\n",
       "      dtype=object)"
      ]
     },
     "execution_count": 2,
     "metadata": {},
     "output_type": "execute_result"
    }
   ],
   "source": [
    "import pandas as pd\n",
    "\n",
    "def extract_unique_labels(csv_file_path):\n",
    "    # Load CSV file\n",
    "    df = pd.read_csv(csv_file_path)\n",
    "\n",
    "    # Check if 'label' column exists\n",
    "    if 'label' not in df.columns:\n",
    "        raise ValueError(\"The CSV file must contain a 'label' column.\")\n",
    "\n",
    "    # Get unique labels\n",
    "    unique_labels = df['label'].unique()\n",
    "\n",
    "    # Print them\n",
    "    print(\"Distinct labels:\")\n",
    "    for label in unique_labels:\n",
    "        print(label)\n",
    "\n",
    "    return unique_labels\n",
    "\n",
    "# Example usage\n",
    "extract_unique_labels(\"data.csv\")  # replace with your actual file path\n"
   ]
  },
  {
   "cell_type": "code",
   "execution_count": 20,
   "id": "263ddf53",
   "metadata": {},
   "outputs": [
    {
     "name": "stdout",
     "output_type": "stream",
     "text": [
      "Available keys: dict_keys(['train_states', 'train_labels', 'scaler', 'label_encoder', 'class_names'])\n"
     ]
    }
   ],
   "source": [
    "import pickle\n",
    "\n",
    "with open('quantum_knn_model1.pkl', 'rb') as f:\n",
    "    data = pickle.load(f)\n",
    "\n",
    "print(\"Available keys:\", data.keys())"
   ]
  }
 ],
 "metadata": {
  "kernelspec": {
   "display_name": "myenv",
   "language": "python",
   "name": "python3"
  },
  "language_info": {
   "codemirror_mode": {
    "name": "ipython",
    "version": 3
   },
   "file_extension": ".py",
   "mimetype": "text/x-python",
   "name": "python",
   "nbconvert_exporter": "python",
   "pygments_lexer": "ipython3",
   "version": "3.12.3"
  }
 },
 "nbformat": 4,
 "nbformat_minor": 5
}
